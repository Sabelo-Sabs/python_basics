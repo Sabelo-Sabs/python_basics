{
 "cells": [
  {
   "cell_type": "markdown",
   "metadata": {},
   "source": [
    "# Full-spectrum language"
   ]
  },
  {
   "cell_type": "markdown",
   "metadata": {},
   "source": [
    "Python is a **full-spectrum** language meaning it is a simple programming language that is both very good for beginners and you can build professional applications with it. Python is often described as having battery included because it has so many powerful but well packaged libraries such as `requests`. Let's take a look at the example below."
   ]
  },
  {
   "cell_type": "code",
   "execution_count": 1,
   "metadata": {},
   "outputs": [
    {
     "name": "stdout",
     "output_type": "stream",
     "text": [
      "<h2>Please log in to access Mount Olympus:</h2\n"
     ]
    }
   ],
   "source": [
    "# Example 1: Writting a program that accesses an external website. [You DO NOT NEED to fully understand this, yet!]\n",
    "\n",
    "# Access the external website.\n",
    "# Download the content.\n",
    "# Display a subsection of that content to the user.\n",
    "\n",
    "import requests\n",
    "\n",
    "resp = requests.get(\"http://olympus.realpython.org\")\n",
    "html = resp.text\n",
    "print(html[86:132])"
   ]
  },
  {
   "cell_type": "markdown",
   "metadata": {},
   "source": [
    "👀 Checkout [7 Top Apps Made With Python](https://djangostars.com/blog/top-seven-apps-built-python/) if you're keen to more inspiration! 📍 "
   ]
  },
  {
   "cell_type": "markdown",
   "metadata": {},
   "source": [
    "____________"
   ]
  },
  {
   "cell_type": "markdown",
   "metadata": {},
   "source": [
    "# Popularity"
   ]
  },
  {
   "cell_type": "markdown",
   "metadata": {},
   "source": [
    "Python🐍, being a [popular](https://www.tiobe.com/tiobe-index/) language, serves as a strong indicator of:\n",
    "- The quality of [libraries](https://pypi.org/) available.\n",
    "- [Communities](https://github.com/python) that offer support.\n",
    "- The number of [job](https://365datascience.com/career-advice/best-python-jobs/) openings you'll find.\n",
    "\n",
    "Given the evidence above, Python emerges as an excellent choice for future tech endeavors 🎯.     "
   ]
  },
  {
   "cell_type": "markdown",
   "metadata": {},
   "source": [
    "_____"
   ]
  },
  {
   "cell_type": "markdown",
   "metadata": {},
   "source": [
    "# What to keep in mind"
   ]
  },
  {
   "cell_type": "markdown",
   "metadata": {},
   "source": [
    "You don't have to discard your current passions or professions for Python. If your goal is to be a computer scientist, then more power to you! 💻 However, the invitation to learn Python is to supercharge your career and make it future-proof in the digital age. 🚀🌐\n"
   ]
  },
  {
   "cell_type": "markdown",
   "metadata": {},
   "source": [
    "______"
   ]
  }
 ],
 "metadata": {
  "kernelspec": {
   "display_name": "python_basics-stKgu1Cm",
   "language": "python",
   "name": "python3"
  },
  "language_info": {
   "codemirror_mode": {
    "name": "ipython",
    "version": 3
   },
   "file_extension": ".py",
   "mimetype": "text/x-python",
   "name": "python",
   "nbconvert_exporter": "python",
   "pygments_lexer": "ipython3",
   "version": "3.10.13"
  }
 },
 "nbformat": 4,
 "nbformat_minor": 2
}
